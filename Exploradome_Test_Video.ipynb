{
  "nbformat": 4,
  "nbformat_minor": 0,
  "metadata": {
    "colab": {
      "name": "Exploradome - Test Video.ipynb",
      "provenance": []
    },
    "kernelspec": {
      "name": "python3",
      "display_name": "Python 3"
    },
    "accelerator": "GPU"
  },
  "cells": [
    {
      "cell_type": "code",
      "metadata": {
        "id": "4tUk8_yxlxrt",
        "colab_type": "code",
        "colab": {
          "base_uri": "https://localhost:8080/",
          "height": 124
        },
        "outputId": "b6c6e26a-d1b4-4f7c-d2f1-1444c280bf75"
      },
      "source": [
        "from google.colab import drive\n",
        "drive.mount('/content/drive')"
      ],
      "execution_count": 1,
      "outputs": [
        {
          "output_type": "stream",
          "text": [
            "Go to this URL in a browser: https://accounts.google.com/o/oauth2/auth?client_id=947318989803-6bn6qk8qdgf4n4g3pfee6491hc0brc4i.apps.googleusercontent.com&redirect_uri=urn%3aietf%3awg%3aoauth%3a2.0%3aoob&response_type=code&scope=email%20https%3a%2f%2fwww.googleapis.com%2fauth%2fdocs.test%20https%3a%2f%2fwww.googleapis.com%2fauth%2fdrive%20https%3a%2f%2fwww.googleapis.com%2fauth%2fdrive.photos.readonly%20https%3a%2f%2fwww.googleapis.com%2fauth%2fpeopleapi.readonly\n",
            "\n",
            "Enter your authorization code:\n",
            "··········\n",
            "Mounted at /content/drive\n"
          ],
          "name": "stdout"
        }
      ]
    },
    {
      "cell_type": "code",
      "metadata": {
        "id": "24Y6TOgZnrZV",
        "colab_type": "code",
        "colab": {}
      },
      "source": [
        "import cv2\n",
        "import os\n",
        "import time\n",
        "import shutil\n",
        "import tensorflow as tf\n",
        "from tensorflow.keras.models import Sequential\n",
        "from tensorflow.keras.models import load_model\n",
        "from google.colab.patches import cv2_imshow\n",
        "\n",
        "labels = {0: 'bateau', 1: 'bol', 2: 'chat', 3: 'coeur', 4: 'cygne', 5: 'lapin', 6: 'maison', 7: 'marteau', 8: 'montagne', 9: 'pont', 10: 'renard', 11: 'tortue'}\n",
        "\n",
        "# Must import model.h5 as model and path for the video\n",
        "\n",
        "video_path = \"/content/drive/My Drive/deep/Video.mp4\"\n",
        "model_path = \"/content/tangram_jason_mobilenet_final.h5\"\n",
        "\n",
        "model = load_model(model_path)\n",
        "\n",
        "cam = cv2.VideoCapture(video_path)\n",
        "\n",
        "# cv2.namedWindow(\"Camera Shot\")\n",
        "\n",
        "img_counter = 0\n",
        "\n",
        "if not os.path.exists('frames/'):\n",
        "    os.makedirs('frames/')\n",
        "else:\n",
        "    shutil.rmtree('frames/')\n",
        "    os.makedirs('frames/')\n",
        "\n",
        "while True:\n",
        "    start_time = time.time()\n",
        "    ret, frame = cam.read()\n",
        "    if not ret:\n",
        "        print(\"failed to grab frame\")\n",
        "        break\n",
        "    print(\"Camera shot\")\n",
        "    cv2_imshow(frame)\n",
        "\n",
        "    height, width, dim = frame.shape\n",
        "    width_cutoff = width // 2\n",
        "    s1 = frame[:, :width_cutoff]\n",
        "    s2 = frame[:, width_cutoff:]\n",
        "\n",
        "    # Resize image to expected size for the model and expansion of dimension from 3 to 4\n",
        "    s1_up = tf.image.resize(s1, (224,224), preserve_aspect_ratio=False)\n",
        "    s1_final = tf.expand_dims(s1_up, axis=0)\n",
        "    s2_up = tf.image.resize(s2, (224,224), preserve_aspect_ratio=False)\n",
        "    s2_final = tf.expand_dims(s2_up, axis=0)\n",
        "    \n",
        "    # Prediction and creation of results dictionnaries\n",
        "    result_1 = model.predict(s1_final)\n",
        "    result_dict_1 = {}\n",
        "    result_2 = model.predict(s2_final)\n",
        "    result_dict_2 = {}\n",
        "    for i in range(len(result_1[0])):\n",
        "        result_dict_1[labels[i]]=result_1[0][i]\n",
        "        result_dict_2[labels[i]]=result_2[0][i]\n",
        "    end_time = time.time()\n",
        "    total_fps = 1/(end_time-start_time)\n",
        "    print(\"Total time:\",end_time-start_time)\n",
        "    print(\"FPS:\",total_fps)\n",
        "    print(result_dict_1)\n",
        "    print(result_dict_2)\n",
        "\n",
        "    #Takes a shot every second\n",
        "    img_name_A = \"frames/frame_{}-A.jpg\".format(img_counter)\n",
        "    img_name_B = \"frames/frame_{}-B.jpg\".format(img_counter)\n",
        "    cv2.imwrite(img_name_A, s1)\n",
        "    cv2.imwrite(img_name_B, s2)\n",
        "    print(\"{} written!\".format(img_name_A.replace(\"-A.jpg\",\"\")))\n",
        "    \n",
        "    img_counter += 1\n",
        "    time.sleep(1)\n",
        "\n",
        "    k = cv2.waitKey(1)\n",
        "    if k%256 == 27:\n",
        "        # ESC pressed\n",
        "        print(\"Escape hit, closing...\")\n",
        "        break\n",
        "        \n",
        "\n",
        "# cam.release()\n",
        "\n",
        "# cv2.destroyAllWindows()\n",
        "\n",
        "# shutil.make_archive('images', 'zip', 'frames/')"
      ],
      "execution_count": null,
      "outputs": []
    },
    {
      "cell_type": "code",
      "metadata": {
        "id": "bs0NBhIOod7a",
        "colab_type": "code",
        "colab": {}
      },
      "source": [
        ""
      ],
      "execution_count": null,
      "outputs": []
    }
  ]
}